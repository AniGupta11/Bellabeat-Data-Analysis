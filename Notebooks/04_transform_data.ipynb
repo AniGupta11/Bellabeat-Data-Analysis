{
 "cells": [
  {
   "cell_type": "markdown",
   "id": "c0941521",
   "metadata": {},
   "source": [
    "# Bellabeat Case Study — Phase 2.5 (Optional)\n",
    "\n",
    "### Notebook 04: Transform Data (Feature Engineering)\n",
    "\n",
    "In this notebook, we will:\n",
    "- Load the cleaned dataset (`bellabeat_clean.csv`)\n",
    "- Add extra features for easier analysis:\n",
    "  - Weekday / Weekend\n",
    "  - Sleep hours\n",
    "  - Total active minutes\n",
    "  - Sedentary hours\n",
    "  - Sleep efficiency\n",
    "  - BMI categories\n",
    "- Save the enhanced dataset as `bellabeat_analysis_ready.csv`\n",
    "\n",
    "This step is optional but makes analysis richer for SQL, Power BI, and EDA."
   ]
  },
  {
   "cell_type": "code",
   "execution_count": null,
   "id": "796e1ed4",
   "metadata": {},
   "outputs": [
    {
     "name": "stdout",
     "output_type": "stream",
     "text": [
      "✅ Clean dataset loaded!\n",
      "Shape: (940, 24)\n"
     ]
    },
    {
     "data": {
      "text/html": [
       "<div>\n",
       "<style scoped>\n",
       "    .dataframe tbody tr th:only-of-type {\n",
       "        vertical-align: middle;\n",
       "    }\n",
       "\n",
       "    .dataframe tbody tr th {\n",
       "        vertical-align: top;\n",
       "    }\n",
       "\n",
       "    .dataframe thead th {\n",
       "        text-align: right;\n",
       "    }\n",
       "</style>\n",
       "<table border=\"1\" class=\"dataframe\">\n",
       "  <thead>\n",
       "    <tr style=\"text-align: right;\">\n",
       "      <th></th>\n",
       "      <th>id</th>\n",
       "      <th>activity_date</th>\n",
       "      <th>total_steps</th>\n",
       "      <th>total_distance</th>\n",
       "      <th>tracker_distance</th>\n",
       "      <th>logged_activities_distance</th>\n",
       "      <th>very_active_distance</th>\n",
       "      <th>moderately_active_distance</th>\n",
       "      <th>light_active_distance</th>\n",
       "      <th>sedentary_active_distance</th>\n",
       "      <th>...</th>\n",
       "      <th>calories</th>\n",
       "      <th>total_sleep_records</th>\n",
       "      <th>total_minutes_asleep</th>\n",
       "      <th>total_time_in_bed</th>\n",
       "      <th>weight_kg</th>\n",
       "      <th>weight_pounds</th>\n",
       "      <th>fat</th>\n",
       "      <th>b_m_i</th>\n",
       "      <th>is_manual_report</th>\n",
       "      <th>log_id</th>\n",
       "    </tr>\n",
       "  </thead>\n",
       "  <tbody>\n",
       "    <tr>\n",
       "      <th>0</th>\n",
       "      <td>1503960366</td>\n",
       "      <td>2016-04-12</td>\n",
       "      <td>13162</td>\n",
       "      <td>8.50</td>\n",
       "      <td>8.50</td>\n",
       "      <td>0.0</td>\n",
       "      <td>1.88</td>\n",
       "      <td>0.55</td>\n",
       "      <td>6.06</td>\n",
       "      <td>0.0</td>\n",
       "      <td>...</td>\n",
       "      <td>1985</td>\n",
       "      <td>1.0</td>\n",
       "      <td>327.0</td>\n",
       "      <td>346.0</td>\n",
       "      <td>NaN</td>\n",
       "      <td>NaN</td>\n",
       "      <td>NaN</td>\n",
       "      <td>NaN</td>\n",
       "      <td>NaN</td>\n",
       "      <td>NaN</td>\n",
       "    </tr>\n",
       "    <tr>\n",
       "      <th>1</th>\n",
       "      <td>1503960366</td>\n",
       "      <td>2016-04-13</td>\n",
       "      <td>10735</td>\n",
       "      <td>6.97</td>\n",
       "      <td>6.97</td>\n",
       "      <td>0.0</td>\n",
       "      <td>1.57</td>\n",
       "      <td>0.69</td>\n",
       "      <td>4.71</td>\n",
       "      <td>0.0</td>\n",
       "      <td>...</td>\n",
       "      <td>1797</td>\n",
       "      <td>2.0</td>\n",
       "      <td>384.0</td>\n",
       "      <td>407.0</td>\n",
       "      <td>NaN</td>\n",
       "      <td>NaN</td>\n",
       "      <td>NaN</td>\n",
       "      <td>NaN</td>\n",
       "      <td>NaN</td>\n",
       "      <td>NaN</td>\n",
       "    </tr>\n",
       "    <tr>\n",
       "      <th>2</th>\n",
       "      <td>1503960366</td>\n",
       "      <td>2016-04-14</td>\n",
       "      <td>10460</td>\n",
       "      <td>6.74</td>\n",
       "      <td>6.74</td>\n",
       "      <td>0.0</td>\n",
       "      <td>2.44</td>\n",
       "      <td>0.40</td>\n",
       "      <td>3.91</td>\n",
       "      <td>0.0</td>\n",
       "      <td>...</td>\n",
       "      <td>1776</td>\n",
       "      <td>NaN</td>\n",
       "      <td>NaN</td>\n",
       "      <td>NaN</td>\n",
       "      <td>NaN</td>\n",
       "      <td>NaN</td>\n",
       "      <td>NaN</td>\n",
       "      <td>NaN</td>\n",
       "      <td>NaN</td>\n",
       "      <td>NaN</td>\n",
       "    </tr>\n",
       "    <tr>\n",
       "      <th>3</th>\n",
       "      <td>1503960366</td>\n",
       "      <td>2016-04-15</td>\n",
       "      <td>9762</td>\n",
       "      <td>6.28</td>\n",
       "      <td>6.28</td>\n",
       "      <td>0.0</td>\n",
       "      <td>2.14</td>\n",
       "      <td>1.26</td>\n",
       "      <td>2.83</td>\n",
       "      <td>0.0</td>\n",
       "      <td>...</td>\n",
       "      <td>1745</td>\n",
       "      <td>1.0</td>\n",
       "      <td>412.0</td>\n",
       "      <td>442.0</td>\n",
       "      <td>NaN</td>\n",
       "      <td>NaN</td>\n",
       "      <td>NaN</td>\n",
       "      <td>NaN</td>\n",
       "      <td>NaN</td>\n",
       "      <td>NaN</td>\n",
       "    </tr>\n",
       "    <tr>\n",
       "      <th>4</th>\n",
       "      <td>1503960366</td>\n",
       "      <td>2016-04-16</td>\n",
       "      <td>12669</td>\n",
       "      <td>8.16</td>\n",
       "      <td>8.16</td>\n",
       "      <td>0.0</td>\n",
       "      <td>2.71</td>\n",
       "      <td>0.41</td>\n",
       "      <td>5.04</td>\n",
       "      <td>0.0</td>\n",
       "      <td>...</td>\n",
       "      <td>1863</td>\n",
       "      <td>2.0</td>\n",
       "      <td>340.0</td>\n",
       "      <td>367.0</td>\n",
       "      <td>NaN</td>\n",
       "      <td>NaN</td>\n",
       "      <td>NaN</td>\n",
       "      <td>NaN</td>\n",
       "      <td>NaN</td>\n",
       "      <td>NaN</td>\n",
       "    </tr>\n",
       "  </tbody>\n",
       "</table>\n",
       "<p>5 rows × 24 columns</p>\n",
       "</div>"
      ],
      "text/plain": [
       "           id activity_date  total_steps  total_distance  tracker_distance  \\\n",
       "0  1503960366    2016-04-12        13162            8.50              8.50   \n",
       "1  1503960366    2016-04-13        10735            6.97              6.97   \n",
       "2  1503960366    2016-04-14        10460            6.74              6.74   \n",
       "3  1503960366    2016-04-15         9762            6.28              6.28   \n",
       "4  1503960366    2016-04-16        12669            8.16              8.16   \n",
       "\n",
       "   logged_activities_distance  very_active_distance  \\\n",
       "0                         0.0                  1.88   \n",
       "1                         0.0                  1.57   \n",
       "2                         0.0                  2.44   \n",
       "3                         0.0                  2.14   \n",
       "4                         0.0                  2.71   \n",
       "\n",
       "   moderately_active_distance  light_active_distance  \\\n",
       "0                        0.55                   6.06   \n",
       "1                        0.69                   4.71   \n",
       "2                        0.40                   3.91   \n",
       "3                        1.26                   2.83   \n",
       "4                        0.41                   5.04   \n",
       "\n",
       "   sedentary_active_distance  ...  calories  total_sleep_records  \\\n",
       "0                        0.0  ...      1985                  1.0   \n",
       "1                        0.0  ...      1797                  2.0   \n",
       "2                        0.0  ...      1776                  NaN   \n",
       "3                        0.0  ...      1745                  1.0   \n",
       "4                        0.0  ...      1863                  2.0   \n",
       "\n",
       "   total_minutes_asleep  total_time_in_bed  weight_kg  weight_pounds  fat  \\\n",
       "0                 327.0              346.0        NaN            NaN  NaN   \n",
       "1                 384.0              407.0        NaN            NaN  NaN   \n",
       "2                   NaN                NaN        NaN            NaN  NaN   \n",
       "3                 412.0              442.0        NaN            NaN  NaN   \n",
       "4                 340.0              367.0        NaN            NaN  NaN   \n",
       "\n",
       "   b_m_i  is_manual_report  log_id  \n",
       "0    NaN               NaN     NaN  \n",
       "1    NaN               NaN     NaN  \n",
       "2    NaN               NaN     NaN  \n",
       "3    NaN               NaN     NaN  \n",
       "4    NaN               NaN     NaN  \n",
       "\n",
       "[5 rows x 24 columns]"
      ]
     },
     "execution_count": 1,
     "metadata": {},
     "output_type": "execute_result"
    }
   ],
   "source": [
    "import pandas as pd\n",
    "import os\n",
    "\n",
    "# Paths\n",
    "PROCESSED_PATH = r\"D:/Projects/Bellabeat/Data/Processed/\"\n",
    "INPUT_FILE = os.path.join(PROCESSED_PATH, \"bellabeat_clean.csv\")\n",
    "OUTPUT_FILE = os.path.join(PROCESSED_PATH, \"bellabeat_analysis_ready.csv\")\n",
    "\n",
    "# Load dataset\n",
    "df = pd.read_csv(INPUT_FILE)\n",
    "print(\"Clean dataset loaded!\")\n",
    "print(\"Shape:\", df.shape)\n",
    "df.head()"
   ]
  },
  {
   "cell_type": "markdown",
   "id": "13b7f9c8",
   "metadata": {},
   "source": [
    "## Step 1: Add Weekday & Weekend Features"
   ]
  },
  {
   "cell_type": "code",
   "execution_count": 2,
   "id": "d8f571e1",
   "metadata": {},
   "outputs": [],
   "source": [
    "# Convert to datetime\n",
    "df[\"activity_date\"] = pd.to_datetime(df[\"activity_date\"])\n",
    "\n",
    "# Extract weekday\n",
    "df[\"weekday\"] = df[\"activity_date\"].dt.day_name()\n",
    "df[\"is_weekend\"] = df[\"activity_date\"].dt.weekday >= 5"
   ]
  },
  {
   "cell_type": "markdown",
   "id": "befe4bee",
   "metadata": {},
   "source": [
    "## Step 2: Add Sleep Hours"
   ]
  },
  {
   "cell_type": "code",
   "execution_count": 3,
   "id": "1877c8c5",
   "metadata": {},
   "outputs": [],
   "source": [
    "if \"total_minutes_asleep\" in df.columns:\n",
    "    df[\"sleep_hours\"] = df[\"total_minutes_asleep\"] / 60"
   ]
  },
  {
   "cell_type": "markdown",
   "id": "efb5654e",
   "metadata": {},
   "source": [
    "## Step 3: Add Total Active Minutes & Sedentary Hours"
   ]
  },
  {
   "cell_type": "code",
   "execution_count": 4,
   "id": "b2aba36f",
   "metadata": {},
   "outputs": [],
   "source": [
    "active_cols = [\"very_active_minutes\", \"fairly_active_minutes\", \"lightly_active_minutes\"]\n",
    "\n",
    "# Total active minutes\n",
    "df[\"total_active_minutes\"] = df[active_cols].sum(axis=1, skipna=True)\n",
    "\n",
    "# Sedentary hours\n",
    "if \"sedentary_minutes\" in df.columns:\n",
    "    df[\"sedentary_hours\"] = df[\"sedentary_minutes\"] / 60"
   ]
  },
  {
   "cell_type": "markdown",
   "id": "d885b8da",
   "metadata": {},
   "source": [
    "## Step 4: Add Sleep Efficiency"
   ]
  },
  {
   "cell_type": "code",
   "execution_count": 5,
   "id": "57474d35",
   "metadata": {},
   "outputs": [],
   "source": [
    "if \"total_time_in_bed\" in df.columns and \"total_minutes_asleep\" in df.columns:\n",
    "    df[\"sleep_efficiency\"] = df[\"total_minutes_asleep\"] / df[\"total_time_in_bed\"]"
   ]
  },
  {
   "cell_type": "markdown",
   "id": "32d98341",
   "metadata": {},
   "source": [
    "## Step 5: Add BMI Categories"
   ]
  },
  {
   "cell_type": "code",
   "execution_count": 6,
   "id": "7393d572",
   "metadata": {},
   "outputs": [],
   "source": [
    "if \"bmi\" in df.columns:\n",
    "    def bmi_category(bmi):\n",
    "        if pd.isna(bmi): return None\n",
    "        if bmi < 18.5: return \"Underweight\"\n",
    "        elif 18.5 <= bmi < 24.9: return \"Normal\"\n",
    "        elif 25 <= bmi < 29.9: return \"Overweight\"\n",
    "        else: return \"Obese\"\n",
    "    df[\"bmi_category\"] = df[\"bmi\"].apply(bmi_category)"
   ]
  },
  {
   "cell_type": "markdown",
   "id": "22db50d7",
   "metadata": {},
   "source": [
    "## Step 6: Save Analysis-Ready Dataset"
   ]
  },
  {
   "cell_type": "code",
   "execution_count": 8,
   "id": "c452fa04",
   "metadata": {},
   "outputs": [
    {
     "name": "stdout",
     "output_type": "stream",
     "text": [
      "Analysis-ready dataset saved at D:/Projects/Bellabeat/Data/Processed/bellabeat_analysis_ready.csv\n",
      "Shape: (940, 30)\n",
      "New Columns: ['total_steps', 'total_distance', 'tracker_distance', 'logged_activities_distance', 'very_active_distance', 'moderately_active_distance', 'light_active_distance', 'sedentary_active_distance', 'very_active_minutes', 'fairly_active_minutes'] ...\n"
     ]
    }
   ],
   "source": [
    "df.to_csv(OUTPUT_FILE, index=False)\n",
    "print(f\"Analysis-ready dataset saved at {OUTPUT_FILE}\")\n",
    "print(\"Shape:\", df.shape)\n",
    "print(\"New Columns:\", [col for col in df.columns if col not in [\"id\",\"activity_date\"]][:10], \"...\")\n"
   ]
  },
  {
   "cell_type": "markdown",
   "id": "505d5c1f",
   "metadata": {},
   "source": [
    "## Key Takeaways\n",
    "- Added **weekday & weekend** features for behavioral analysis\n",
    "- Converted **minutes → hours** for sleep & sedentary activity\n",
    "- Created **sleep efficiency** to measure sleep quality\n",
    "- Categorized **BMI** for easier health interpretation\n",
    "\n",
    "👉 This dataset (`bellabeat_analysis_ready.csv`) is now ready for **SQL analysis, Python EDA, and Power BI**."
   ]
  }
 ],
 "metadata": {
  "kernelspec": {
   "display_name": "Python 3",
   "language": "python",
   "name": "python3"
  },
  "language_info": {
   "codemirror_mode": {
    "name": "ipython",
    "version": 3
   },
   "file_extension": ".py",
   "mimetype": "text/x-python",
   "name": "python",
   "nbconvert_exporter": "python",
   "pygments_lexer": "ipython3",
   "version": "3.12.6"
  }
 },
 "nbformat": 4,
 "nbformat_minor": 5
}
